{
 "cells": [
  {
   "cell_type": "code",
   "execution_count": 1,
   "id": "15e205e4",
   "metadata": {},
   "outputs": [],
   "source": [
    "import csv\n",
    "\n",
    "import xml.etree.ElementTree as ET\n",
    "\n",
    "# Parse the OSM file\n",
    "osm_file = \"./mapamerica.osm\"\n",
    "tree = ET.parse(osm_file)\n",
    "root = tree.getroot()\n"
   ]
  },
  {
   "cell_type": "code",
   "execution_count": null,
   "id": "285ee611",
   "metadata": {},
   "outputs": [],
   "source": [
    "# Open a CSV file to write the extracted roadway data\n",
    "csv_file = \"roadway_network_america.csv\"\n",
    "with open(csv_file, mode='w', newline='', encoding='utf-8') as file:\n",
    "    writer = csv.writer(file)\n",
    "    # Write the header row\n",
    "    writer.writerow([\"id\", \"lat\", \"lon\", \"tag_key\", \"tag_value\"])\n",
    "    \n",
    "    # Iterate through the nodes in the OSM file\n",
    "    for node in root.findall(\"node\"):\n",
    "        node_id = node.get(\"id\")\n",
    "        lat = node.get(\"lat\")\n",
    "        lon = node.get(\"lon\")\n",
    "        \n",
    "        # Extract tags associated with the node\n",
    "        for tag in node.findall(\"tag\"):\n",
    "            tag_key = tag.get(\"k\")\n",
    "            tag_value = tag.get(\"v\")\n",
    "            \n",
    "            # Filter for roadway-related tags (e.g., highway)\n",
    "            if tag_key == \"highway\":\n",
    "                # Write the node data and tag to the CSV file\n",
    "                writer.writerow([node_id, lat, lon, tag_key, tag_value])\n",
    "\n",
    "print(f\"Roadway network data extracted and saved to {csv_file}\")"
   ]
  }
 ],
 "metadata": {
  "kernelspec": {
   "display_name": "Python 3",
   "language": "python",
   "name": "python3"
  },
  "language_info": {
   "codemirror_mode": {
    "name": "ipython",
    "version": 3
   },
   "file_extension": ".py",
   "mimetype": "text/x-python",
   "name": "python",
   "nbconvert_exporter": "python",
   "pygments_lexer": "ipython3",
   "version": "3.12.9"
  }
 },
 "nbformat": 4,
 "nbformat_minor": 5
}
